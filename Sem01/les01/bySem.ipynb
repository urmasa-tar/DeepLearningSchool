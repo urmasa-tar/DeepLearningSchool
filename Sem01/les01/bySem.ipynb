{
 "cells": [
  {
   "cell_type": "code",
   "execution_count": 3,
   "metadata": {},
   "outputs": [],
   "source": [
    "import numpy as np\n",
    "\n",
    "import pandas as pd\n",
    "import matplotlib.pyplot as plt\n",
    "\n",
    "import requests"
   ]
  },
  {
   "cell_type": "code",
   "execution_count": 8,
   "metadata": {},
   "outputs": [
    {
     "name": "stdout",
     "output_type": "stream",
     "text": [
      "   Survived  Pclass                                               Name  \\\n",
      "0         0       3                             Mr. Owen Harris Braund   \n",
      "1         1       1  Mrs. John Bradley (Florence Briggs Thayer) Cum...   \n",
      "2         1       3                              Miss. Laina Heikkinen   \n",
      "3         1       1        Mrs. Jacques Heath (Lily May Peel) Futrelle   \n",
      "4         0       3                            Mr. William Henry Allen   \n",
      "\n",
      "      Sex   Age  Siblings/Spouses Aboard  Parents/Children Aboard     Fare  \n",
      "0    male  22.0                        1                        0   7.2500  \n",
      "1  female  38.0                        1                        0  71.2833  \n",
      "2  female  26.0                        0                        0   7.9250  \n",
      "3  female  35.0                        1                        0  53.1000  \n",
      "4    male  35.0                        0                        0   8.0500  \n"
     ]
    }
   ],
   "source": [
    "# URL для загрузки датасета\n",
    "url = \"https://web.stanford.edu/class/archive/cs/cs109/cs109.1166/stuff/titanic.csv\"\n",
    "\n",
    "# Загрузка датасета\n",
    "response = requests.get(url)\n",
    "with open(\"titanic.csv\", \"wb\") as file:\n",
    "    file.write(response.content)\n",
    "\n",
    "# Чтение датасета в DataFrame\n",
    "df = pd.read_csv(\"titanic.csv\")\n",
    "\n",
    "# Вывод первых строк датасета\n",
    "print(df.head())"
   ]
  },
  {
   "cell_type": "code",
   "execution_count": 9,
   "metadata": {},
   "outputs": [],
   "source": [
    "# To use one of columns as id -> use index_col\n",
    "# df_withID = pd.read_csv(\"titanic.csv\", index_col='PassengerId')"
   ]
  },
  {
   "cell_type": "code",
   "execution_count": 12,
   "metadata": {},
   "outputs": [
    {
     "name": "stdout",
     "output_type": "stream",
     "text": [
      "   Survived  Pclass                                              Name     Sex  \\\n",
      "6         0       1                            Mr. Timothy J McCarthy    male   \n",
      "7         0       3                     Master. Gosta Leonard Palsson    male   \n",
      "8         1       3  Mrs. Oscar W (Elisabeth Vilhelmina Berg) Johnson  female   \n",
      "9         1       2                Mrs. Nicholas (Adele Achem) Nasser  female   \n",
      "\n",
      "    Age  Siblings/Spouses Aboard  Parents/Children Aboard     Fare  \n",
      "6  54.0                        0                        0  51.8625  \n",
      "7   2.0                        3                        1  21.0750  \n",
      "8  27.0                        0                        2  11.1333  \n",
      "9  14.0                        1                        0  30.0708  \n",
      "    Survived  Pclass                                              Name  \\\n",
      "6          0       1                            Mr. Timothy J McCarthy   \n",
      "7          0       3                     Master. Gosta Leonard Palsson   \n",
      "8          1       3  Mrs. Oscar W (Elisabeth Vilhelmina Berg) Johnson   \n",
      "9          1       2                Mrs. Nicholas (Adele Achem) Nasser   \n",
      "10         1       3                    Miss. Marguerite Rut Sandstrom   \n",
      "\n",
      "       Sex   Age  Siblings/Spouses Aboard  Parents/Children Aboard     Fare  \n",
      "6     male  54.0                        0                        0  51.8625  \n",
      "7     male   2.0                        3                        1  21.0750  \n",
      "8   female  27.0                        0                        2  11.1333  \n",
      "9   female  14.0                        1                        0  30.0708  \n",
      "10  female   4.0                        1                        1  16.7000  \n"
     ]
    }
   ],
   "source": [
    "# Slice with iloc\n",
    "print(df.iloc[6:10]) # -> by iloc\n",
    "print(df.loc[6:10])"
   ]
  },
  {
   "cell_type": "code",
   "execution_count": 13,
   "metadata": {},
   "outputs": [
    {
     "data": {
      "text/html": [
       "<div>\n",
       "<style scoped>\n",
       "    .dataframe tbody tr th:only-of-type {\n",
       "        vertical-align: middle;\n",
       "    }\n",
       "\n",
       "    .dataframe tbody tr th {\n",
       "        vertical-align: top;\n",
       "    }\n",
       "\n",
       "    .dataframe thead th {\n",
       "        text-align: right;\n",
       "    }\n",
       "</style>\n",
       "<table border=\"1\" class=\"dataframe\">\n",
       "  <thead>\n",
       "    <tr style=\"text-align: right;\">\n",
       "      <th></th>\n",
       "      <th>Survived</th>\n",
       "      <th>Pclass</th>\n",
       "      <th>Name</th>\n",
       "      <th>Sex</th>\n",
       "      <th>Age</th>\n",
       "      <th>Siblings/Spouses Aboard</th>\n",
       "      <th>Parents/Children Aboard</th>\n",
       "      <th>Fare</th>\n",
       "    </tr>\n",
       "  </thead>\n",
       "  <tbody>\n",
       "    <tr>\n",
       "      <th>6</th>\n",
       "      <td>0</td>\n",
       "      <td>1</td>\n",
       "      <td>Mr. Timothy J McCarthy</td>\n",
       "      <td>male</td>\n",
       "      <td>54.0</td>\n",
       "      <td>0</td>\n",
       "      <td>0</td>\n",
       "      <td>51.8625</td>\n",
       "    </tr>\n",
       "    <tr>\n",
       "      <th>7</th>\n",
       "      <td>0</td>\n",
       "      <td>3</td>\n",
       "      <td>Master. Gosta Leonard Palsson</td>\n",
       "      <td>male</td>\n",
       "      <td>2.0</td>\n",
       "      <td>3</td>\n",
       "      <td>1</td>\n",
       "      <td>21.0750</td>\n",
       "    </tr>\n",
       "    <tr>\n",
       "      <th>10</th>\n",
       "      <td>1</td>\n",
       "      <td>3</td>\n",
       "      <td>Miss. Marguerite Rut Sandstrom</td>\n",
       "      <td>female</td>\n",
       "      <td>4.0</td>\n",
       "      <td>1</td>\n",
       "      <td>1</td>\n",
       "      <td>16.7000</td>\n",
       "    </tr>\n",
       "  </tbody>\n",
       "</table>\n",
       "</div>"
      ],
      "text/plain": [
       "    Survived  Pclass                            Name     Sex   Age  \\\n",
       "6          0       1          Mr. Timothy J McCarthy    male  54.0   \n",
       "7          0       3   Master. Gosta Leonard Palsson    male   2.0   \n",
       "10         1       3  Miss. Marguerite Rut Sandstrom  female   4.0   \n",
       "\n",
       "    Siblings/Spouses Aboard  Parents/Children Aboard     Fare  \n",
       "6                         0                        0  51.8625  \n",
       "7                         3                        1  21.0750  \n",
       "10                        1                        1  16.7000  "
      ]
     },
     "execution_count": 13,
     "metadata": {},
     "output_type": "execute_result"
    }
   ],
   "source": [
    "df.loc[[6,7,10]]"
   ]
  },
  {
   "cell_type": "code",
   "execution_count": 14,
   "metadata": {},
   "outputs": [
    {
     "data": {
      "text/plain": [
       "Index(['Survived', 'Pclass', 'Name', 'Sex', 'Age', 'Siblings/Spouses Aboard',\n",
       "       'Parents/Children Aboard', 'Fare'],\n",
       "      dtype='object')"
      ]
     },
     "execution_count": 14,
     "metadata": {},
     "output_type": "execute_result"
    }
   ],
   "source": [
    "df.columns"
   ]
  }
 ],
 "metadata": {
  "kernelspec": {
   "display_name": "Python 3",
   "language": "python",
   "name": "python3"
  },
  "language_info": {
   "codemirror_mode": {
    "name": "ipython",
    "version": 3
   },
   "file_extension": ".py",
   "mimetype": "text/x-python",
   "name": "python",
   "nbconvert_exporter": "python",
   "pygments_lexer": "ipython3",
   "version": "3.13.2"
  }
 },
 "nbformat": 4,
 "nbformat_minor": 2
}
