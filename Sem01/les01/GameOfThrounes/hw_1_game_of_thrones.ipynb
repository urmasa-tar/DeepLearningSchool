{
  "cells": [
    {
      "cell_type": "markdown",
      "metadata": {
        "id": "tRGIC0YO2Mvz"
      },
      "source": [
        "<center><image src=\"https://drive.google.com/uc?id=1n3G4TdK_u6PQHcLrxB_A0HijNdigXmUH\">"
      ]
    },
    {
      "cell_type": "markdown",
      "metadata": {
        "id": "pgFYFftQKxY5"
      },
      "source": [
        "<h3 style=\"text-align: center;\"><b>Школа глубокого обучения ФПМИ МФТИ, 2024</b></h3>\n",
        "\n",
        "<h1 style=\"text-align: center;\"><b>Домашнее задание. Библиотека sklearn и классификация с помощью KNN</b></h1>"
      ]
    },
    {
      "cell_type": "markdown",
      "metadata": {
        "id": "cgiYn3hkWAAA"
      },
      "source": [
        "## Описание домашнего задания"
      ]
    },
    {
      "cell_type": "markdown",
      "metadata": {
        "id": "IZE9r4BEQb6E"
      },
      "source": [
        "В данном задании вы будете работать с датасетом о персонажах из вселенной Игры Престолов [A Wiki of Ice and Fire](http://awoiaf.westeros.org/). Вам предстоит предсказать, кто из персонажей умрет, а кто останется вживых.\n",
        "\n"
      ]
    },
    {
      "cell_type": "markdown",
      "metadata": {
        "id": "CMY39BOZwoL0"
      },
      "source": [
        "Описание данных:\n",
        "\n",
        "* **name**: Имя персонажа\n",
        "\n",
        "* **Title**: Социальный статус или знатность\n",
        "\n",
        "* **House**: Дом, к которому принадлежит персонаж\n",
        "\n",
        "* **Culture**: Социальная группа, к которой принадлежит персонаж\n",
        "\n",
        "* **book1/2/3/4/5**: Появление персонажа в книге\n",
        "\n",
        "* **Is noble**: Знатность персонажа, основанное на титуле\n",
        "\n",
        "* **Age**: Отсчет времени: 305 AC\n",
        "\n",
        "* **male**: Мужчина или женщина\n",
        "\n",
        "* **dateOfBirth**: дата рождения\n",
        "\n",
        "* **Spouse**: Имя супруги\\а персонажа\n",
        "\n",
        "* **Father**: Имя отца персонажа\n",
        "\n",
        "* **Mother**: Имя матери персонажа\n",
        "\n",
        "* **Heir**: Имя наследника персонажа\n",
        "\n",
        "* **Is married**: Represents whether the character is married\n",
        "\n",
        "* **Is spouse alive**: Represents whether character's spouse is alive\n",
        "\n",
        "* **Is mother alive:** Жива ли мать персонажа\n",
        "\n",
        "* **Is heir alive:** Жив ли наследник персонажа\n",
        "\n",
        "* **Is father alive:** Указывает, жив ли отец персонажа\n",
        "\n",
        "* **Number dead relations:** Количество умерших персонажей, с которыми персонаж связан\n",
        "\n",
        "* **Popularity score:** Количество внутренних входящих и исходящих ссылок на страницу персонажей в вики http://awoiaf.westeros.org\n",
        "\n",
        "Целевая переменная:\n",
        "* **isAlive**: жив ли персонаж в книге"
      ]
    },
    {
      "cell_type": "markdown",
      "metadata": {
        "id": "jGHHzuxLbaQ5"
      },
      "source": [
        "Оценивание:\n",
        "\n",
        "Баллы считаются следующим образом:\n",
        "\n",
        "1) $1.00 \\geqslant score \\geqslant 0.84$ --- 5 баллов\n",
        "\n",
        "2) $0.84 > score \\geqslant 0.77$ --- 4 балла\n",
        "\n",
        "3) $0.77 > score \\geqslant 0.70$ --- 3 балла\n",
        "\n",
        "4) $0.70 > score \\geqslant 0.65$ --- 2 балла\n",
        "\n",
        "5) $0.65 > score \\geqslant 0.6$ --- 1 балл\n",
        "\n",
        "6) $0.60 > score$ --- 0 баллов"
      ]
    },
    {
      "cell_type": "markdown",
      "metadata": {
        "id": "U75ajNjcWHCN"
      },
      "source": [
        "## Часть 1. Анализ и предобработка данных"
      ]
    },
    {
      "cell_type": "markdown",
      "metadata": {
        "id": "Uv-Z_6a9Ww4O"
      },
      "source": [
        "Здесь вам необходимо сделать все шаги, которые обсуждались в первой части семинара.\n",
        "* Предобработка данных\n",
        "  * Обработка пропущенных данных\n",
        "  * Создание новых признаков\n",
        "  * Удаление ненужных столбцов\n",
        "* Анализ данных\n",
        "  * Анализ целевой переменной\n",
        "  * Анализ признаков\n",
        "  * Анализ влияния признаков на целевую переменную\n",
        "* Подготовка данных для обучения модели"
      ]
    },
    {
      "cell_type": "markdown",
      "metadata": {
        "id": "ON8TMTBTWa_E"
      },
      "source": [
        "**Задание 1.1.** Импортируйте библиотеки pandas, matplotlib, seaborn"
      ]
    },
    {
      "cell_type": "code",
      "execution_count": 8,
      "metadata": {
        "id": "QO08nAt6mO7E"
      },
      "outputs": [],
      "source": [
        "import numpy as np\n",
        "import pandas as pd\n",
        "\n",
        "import matplotlib.pyplot as plt\n",
        "\n",
        "import seaborn as sns"
      ]
    },
    {
      "cell_type": "markdown",
      "metadata": {
        "id": "M-1ZcYjohU4W"
      },
      "source": [
        "**Задание 1.2.** Загрузите датасет в Pandas DataFrame при помощи функции `read_csv`. Вместо дефолтных наименований строк `0,1,...`, при помощи параметра `index_col`, сделайте значения колонки `S.No` наименованиями строк:"
      ]
    },
    {
      "cell_type": "code",
      "execution_count": null,
      "metadata": {
        "id": "v0HRU0trQLmS"
      },
      "outputs": [
        {
          "name": "stdout",
          "output_type": "stream",
          "text": [
            "                      name                 title  male   culture  dateOfBirth  \\\n",
            "S.No                                                                            \n",
            "1     Viserys II Targaryen                   NaN     1       NaN          NaN   \n",
            "2              Walder Frey  Lord of the Crossing     1  Rivermen        208.0   \n",
            "3             Addison Hill                   Ser     1       NaN          NaN   \n",
            "4              Aemma Arryn                 Queen     0       NaN         82.0   \n",
            "5           Sylva Santagar            Greenstone     0   Dornish        276.0   \n",
            "6         Tommen Baratheon                   NaN     1       NaN          NaN   \n",
            "7         Valarr Targaryen      Hand of the King     1  Valyrian        183.0   \n",
            "8      Viserys I Targaryen                   NaN     1       NaN          NaN   \n",
            "9                  Wilbert                   Ser     1       NaN          NaN   \n",
            "10          Wilbert Osgrey                   Ser     1       NaN          NaN   \n",
            "\n",
            "                  mother            father                heir  \\\n",
            "S.No                                                             \n",
            "1     Rhaenyra Targaryen  Daemon Targaryen  Aegon IV Targaryen   \n",
            "2                    NaN               NaN                 NaN   \n",
            "3                    NaN               NaN                 NaN   \n",
            "4                    NaN               NaN                 NaN   \n",
            "5                    NaN               NaN                 NaN   \n",
            "6       Cersei Lannister  Robert Baratheon  Myrcella Baratheon   \n",
            "7                    NaN               NaN                 NaN   \n",
            "8       Alyssa Targaryen  Baelon Targaryen  Rhaenyra Targaryen   \n",
            "9                    NaN               NaN                 NaN   \n",
            "10                   NaN               NaN                 NaN   \n",
            "\n",
            "                house               spouse  ...  isAliveMother  isAliveFather  \\\n",
            "S.No                                        ...                                 \n",
            "1                 NaN                  NaN  ...            1.0            0.0   \n",
            "2          House Frey          Perra Royce  ...            NaN            NaN   \n",
            "3         House Swyft                  NaN  ...            NaN            NaN   \n",
            "4         House Arryn  Viserys I Targaryen  ...            NaN            NaN   \n",
            "5      House Santagar      Eldon Estermont  ...            NaN            NaN   \n",
            "6                 NaN                  NaN  ...            1.0            1.0   \n",
            "7     House Targaryen      Kiera of Tyrosh  ...            NaN            NaN   \n",
            "8                 NaN                  NaN  ...            1.0            1.0   \n",
            "9                 NaN                  NaN  ...            NaN            NaN   \n",
            "10       House Osgrey                  NaN  ...            NaN            NaN   \n",
            "\n",
            "      isAliveHeir  isAliveSpouse  isMarried  isNoble   age  numDeadRelations  \\\n",
            "S.No                                                                           \n",
            "1             0.0            NaN          0        0   NaN                11   \n",
            "2             NaN            1.0          1        1  97.0                 1   \n",
            "3             NaN            NaN          0        1   NaN                 0   \n",
            "4             NaN            0.0          1        1  23.0                 0   \n",
            "5             NaN            1.0          1        1  29.0                 0   \n",
            "6             1.0            NaN          0        0   NaN                 5   \n",
            "7             NaN            1.0          1        1  26.0                 0   \n",
            "8             1.0            NaN          0        0   NaN                 5   \n",
            "9             NaN            NaN          0        1   NaN                 0   \n",
            "10            NaN            NaN          0        1   NaN                 0   \n",
            "\n",
            "      popularity  isAlive  \n",
            "S.No                       \n",
            "1       0.605351        0  \n",
            "2       0.896321        1  \n",
            "3       0.267559        1  \n",
            "4       0.183946        0  \n",
            "5       0.043478        1  \n",
            "6       1.000000        1  \n",
            "7       0.431438        0  \n",
            "8       0.678930        0  \n",
            "9       0.006689        0  \n",
            "10      0.020067        1  \n",
            "\n",
            "[10 rows x 25 columns]\n",
            "Index(['name', 'title', 'male', 'culture', 'dateOfBirth', 'mother', 'father',\n",
            "       'heir', 'house', 'spouse', 'book1', 'book2', 'book3', 'book4', 'book5',\n",
            "       'isAliveMother', 'isAliveFather', 'isAliveHeir', 'isAliveSpouse',\n",
            "       'isMarried', 'isNoble', 'age', 'numDeadRelations', 'popularity',\n",
            "       'isAlive'],\n",
            "      dtype='object')\n"
          ]
        }
      ],
      "source": [
        "data = pd.read_csv(\"game_of_thrones_train.csv\", index_col=\"S.No\")# Download data from notebook\n",
        "\n",
        "print(data.head(10))"
      ]
    },
    {
      "cell_type": "markdown",
      "metadata": {
        "id": "R_LA4J4fjBdY"
      },
      "source": [
        "**Задание 1.3.** Предобработка (очистка) данных.\n",
        "\n",
        "Проанализируйте, если в колонках NaN значения. Если есть, примите решение, как вы их будете обрабатывать. Вы можете либо удалить их, либо заполнить каким нибудь значением (например, медианой или модой)."
      ]
    },
    {
      "cell_type": "code",
      "execution_count": 33,
      "metadata": {},
      "outputs": [
        {
          "name": "stdout",
          "output_type": "stream",
          "text": [
            "Index(['name', 'title', 'male', 'culture', 'dateOfBirth', 'mother', 'father',\n",
            "       'heir', 'house', 'spouse', 'book1', 'book2', 'book3', 'book4', 'book5',\n",
            "       'isAliveMother', 'isAliveFather', 'isAliveHeir', 'isAliveSpouse',\n",
            "       'isMarried', 'isNoble', 'age', 'numDeadRelations', 'popularity',\n",
            "       'isAlive'],\n",
            "      dtype='object')\n",
            "      dateOfBirth  isAliveHeir  isAliveSpouse\n",
            "S.No                                         \n",
            "1             NaN          0.0            NaN\n",
            "2           208.0          NaN            1.0\n",
            "3             NaN          NaN            NaN\n",
            "4            82.0          NaN            0.0\n",
            "5           276.0          NaN            1.0\n",
            "6             NaN          1.0            NaN\n",
            "7           183.0          NaN            1.0\n",
            "8             NaN          1.0            NaN\n",
            "9             NaN          NaN            NaN\n",
            "10            NaN          NaN            NaN\n",
            "11            NaN          NaN            NaN\n",
            "12            NaN          NaN            NaN\n",
            "13            NaN          NaN            NaN\n",
            "14            NaN          NaN            NaN\n",
            "15            NaN          NaN            NaN\n"
          ]
        }
      ],
      "source": [
        "print(data.columns)\n",
        "columns_to_display = ['dateOfBirth', 'isAliveHeir', 'isAliveSpouse']\n",
        "print(data[columns_to_display].head(15))"
      ]
    },
    {
      "cell_type": "code",
      "execution_count": 23,
      "metadata": {},
      "outputs": [
        {
          "name": "stdout",
          "output_type": "stream",
          "text": [
            "name                   0\n",
            "title                840\n",
            "male                   0\n",
            "culture             1069\n",
            "dateOfBirth         1278\n",
            "mother              1539\n",
            "father              1535\n",
            "heir                1536\n",
            "house                381\n",
            "spouse              1357\n",
            "book1                  0\n",
            "book2                  0\n",
            "book3                  0\n",
            "book4                  0\n",
            "book5                  0\n",
            "isAliveMother       1539\n",
            "isAliveFather       1535\n",
            "isAliveHeir         1536\n",
            "isAliveSpouse       1357\n",
            "isMarried              0\n",
            "isNoble                0\n",
            "age                 1278\n",
            "numDeadRelations       0\n",
            "popularity             0\n",
            "isAlive                0\n",
            "dtype: int64\n"
          ]
        }
      ],
      "source": [
        "nan_counts = data.isna().sum()\n",
        "print(nan_counts)"
      ]
    },
    {
      "cell_type": "code",
      "execution_count": 35,
      "metadata": {
        "id": "1Tv0scrImXTM"
      },
      "outputs": [
        {
          "name": "stdout",
          "output_type": "stream",
          "text": [
            "name                0\n",
            "title               0\n",
            "male                0\n",
            "culture             0\n",
            "dateOfBirth         0\n",
            "mother              0\n",
            "father              0\n",
            "heir                0\n",
            "house               0\n",
            "spouse              0\n",
            "book1               0\n",
            "book2               0\n",
            "book3               0\n",
            "book4               0\n",
            "book5               0\n",
            "isAliveMother       0\n",
            "isAliveFather       0\n",
            "isAliveHeir         0\n",
            "isAliveSpouse       0\n",
            "isMarried           0\n",
            "isNoble             0\n",
            "age                 0\n",
            "numDeadRelations    0\n",
            "popularity          0\n",
            "isAlive             0\n",
            "dtype: int64\n"
          ]
        }
      ],
      "source": [
        "def clean_data(df):\n",
        "    \n",
        "    df = df.dropna(subset=['isAlive'])\n",
        "    \n",
        "    df['title'] = df['title'].fillna('No')\n",
        "    df['culture'] = df['culture'].fillna('No')\n",
        "    df['mother'] = df['mother'].fillna('mother')\n",
        "    df['father'] = df['father'].fillna('father')\n",
        "    df['heir'] = df['heir'].fillna('No')\n",
        "    df['house'] = df['house'].fillna('No')\n",
        "    # df['age'] = df['age'].fillna('mother')\n",
        "    df['spouse'] = df['spouse'].fillna('spouse')\n",
        "    df['isAliveHeir'] = df['isAliveHeir'].fillna(-1)\n",
        "    df['isAliveSpouse'] = df['isAliveSpouse'].fillna(-1)\n",
        "\n",
        "    df['isAliveFather'] = df['isAliveFather'].fillna(df['isAliveFather'].median())\n",
        "    df['isAliveMother'] = df['isAliveMother'].fillna(df['isAliveMother'].median())\n",
        "    df['age'] = df['age'].fillna(df['age'].median())\n",
        "    df['dateOfBirth'] = df['dateOfBirth'].fillna(df['dateOfBirth'].median())\n",
        "\n",
        "    return df\n",
        "data = clean_data(data)\n",
        "nan_counts = data.isna().sum()\n",
        "print(nan_counts)"
      ]
    },
    {
      "cell_type": "markdown",
      "metadata": {
        "id": "wgnKotTkjdOh"
      },
      "source": [
        "**Задание 1.4.** Создайте новые признаки.\n",
        "* Создайте признак isPopular. У вас есть в таблице признак popularity score, поставьте какой то порог, например, 0.5, и пусть те персонажи, у которых popularity score меньше 0.5, непопулярны, т.е. isPopular = 0. Если же выше 0.5, тогда пусть isPopular=1.\n",
        "* Создайте признак boolDeadRelations. Давайте упростим признак numDeadRelations, и просто поделим людей на тех, у кого были хоть какие то отношения с мертвыми персонажами, т.е. numDeadRelations > 0, и те, у которых не было, т.е. numDeadRelations = 0.\n",
        "* Упростите признак culture, объединив схожие названия в один.\n"
      ]
    },
    {
      "cell_type": "code",
      "execution_count": null,
      "metadata": {},
      "outputs": [],
      "source": []
    },
    {
      "cell_type": "code",
      "execution_count": null,
      "metadata": {
        "id": "Pzc5a4enmYtn"
      },
      "outputs": [],
      "source": [
        "# ..."
      ]
    },
    {
      "cell_type": "code",
      "execution_count": null,
      "metadata": {
        "id": "bTKTcPAddBFw"
      },
      "outputs": [],
      "source": [
        "# Подсказка\n",
        "cult = {\n",
        "    'Summer Islands': ['summer islands', 'summer islander', 'summer isles'],\n",
        "    'Ghiscari': ['ghiscari', 'ghiscaricari',  'ghis'],\n",
        "    'Asshai': [\"asshai'i\", 'asshai'],\n",
        "    'Lysene': ['lysene', 'lyseni'],\n",
        "    'Andal': ['andal', 'andals'],\n",
        "    'Braavosi': ['braavosi', 'braavos'],\n",
        "    'Dornish': ['dornishmen', 'dorne', 'dornish'],\n",
        "    'Myrish': ['myr', 'myrish', 'myrmen'],\n",
        "    'Westermen': ['westermen', 'westerman', 'westerlands'],\n",
        "    'Westerosi': ['westeros', 'westerosi'],\n",
        "    'Stormlander': ['stormlands', 'stormlander'],\n",
        "    'Norvoshi': ['norvos', 'norvoshi'],\n",
        "    'Northmen': ['the north', 'northmen'],\n",
        "    'Free Folk': ['wildling', 'first men', 'free folk'],\n",
        "    'Qartheen': ['qartheen', 'qarth'],\n",
        "    'Reach': ['the reach', 'reach', 'reachmen'],\n",
        "}"
      ]
    },
    {
      "cell_type": "markdown",
      "metadata": {
        "id": "tygLTUAkkAHU"
      },
      "source": [
        "**Задание 1.5.** Проанализируйте, какие столбцы являются существенными и влияют на предсказание, а какие нет. Удалите ненужные столбцы по вашему мнению."
      ]
    },
    {
      "cell_type": "code",
      "execution_count": null,
      "metadata": {
        "id": "gDret9EFgo_8"
      },
      "outputs": [],
      "source": [
        "data.drop(columns=[...], inplace = True)"
      ]
    },
    {
      "cell_type": "markdown",
      "metadata": {
        "id": "lc16QxpykMX3"
      },
      "source": [
        "**Задание 1.6.** Проанализируйте целевую переменную. Посмотрите, является ли она категориальной или количественной. Так как мы говорим о задаче классификации, проанализируйте является ли датасет сбалансированным по классам или нет."
      ]
    },
    {
      "cell_type": "code",
      "execution_count": null,
      "metadata": {
        "id": "sQRo20Bfmxlm"
      },
      "outputs": [],
      "source": [
        "# ..."
      ]
    },
    {
      "cell_type": "markdown",
      "metadata": {
        "id": "95mWoYcsk9Pp"
      },
      "source": [
        "**Задание 1.7.** Проанализируйте признаки.\n",
        "  * Обработайте категориальные признаки и переведите их в числа. Можете выбрать любой кодировщик.\n",
        "  * Проанализируйте количественные признаки. Есть ли корреляция между признаками?"
      ]
    },
    {
      "cell_type": "code",
      "execution_count": null,
      "metadata": {
        "id": "oRvPBbyUm0Je"
      },
      "outputs": [],
      "source": [
        "# ..."
      ]
    },
    {
      "cell_type": "markdown",
      "metadata": {
        "id": "qaEaLMe0lr9G"
      },
      "source": [
        "**Задание 1.8.** Проанализируйте влияние признаков на целевую переменную."
      ]
    },
    {
      "cell_type": "code",
      "execution_count": null,
      "metadata": {
        "id": "LSqNtjWufhwh"
      },
      "outputs": [],
      "source": [
        "# ..."
      ]
    },
    {
      "cell_type": "markdown",
      "metadata": {
        "id": "1VAb2VGmilof"
      },
      "source": [
        "**Задание 1.9.** Создайте переменные `X`, которая будет хранить только значения признаков, и `y`, которая будет хранить только значения целевой переменной."
      ]
    },
    {
      "cell_type": "code",
      "execution_count": null,
      "metadata": {
        "id": "5_rg7DQfatPu"
      },
      "outputs": [],
      "source": [
        "X = # ...\n",
        "y = # ..."
      ]
    },
    {
      "cell_type": "markdown",
      "metadata": {
        "id": "l4rlYPP-iago"
      },
      "source": [
        "**Задание 1.10.** Разделите датасет на train и test часть при помощи функции `train_test_split`"
      ]
    },
    {
      "cell_type": "code",
      "execution_count": null,
      "metadata": {
        "id": "GK1X0OBPb4m-"
      },
      "outputs": [],
      "source": [
        "from sklearn.model_selection import train_test_split"
      ]
    },
    {
      "cell_type": "code",
      "execution_count": null,
      "metadata": {
        "id": "HASZhG6Pby5X"
      },
      "outputs": [],
      "source": [
        "X_train, X_test, y_train, y_test = # ..."
      ]
    },
    {
      "cell_type": "markdown",
      "metadata": {
        "id": "GW9X4s8qWm98"
      },
      "source": [
        "## Часть 2. Обучение моделей"
      ]
    },
    {
      "cell_type": "markdown",
      "metadata": {
        "id": "Tu1DFWstaOh0"
      },
      "source": [
        "В данной части домашнего задания, мы хотим научиться обучать модели для задачи классификации на наших данных."
      ]
    },
    {
      "cell_type": "markdown",
      "metadata": {
        "id": "R6924OYeaisZ"
      },
      "source": [
        "**Задание 2.1.** Импортируйте следующие модели из библиотеки `sklearn`\n",
        "* LogisticRegression\n",
        "* RandomForestClassifier\n",
        "* AdaBoostClassifier\n",
        "* GaussianProcessClassifier\n",
        "* GaussianNB\n",
        "* KNeighborsClassifier\n",
        "* SVC\n",
        "* DecisionTreeClassifier\n"
      ]
    },
    {
      "cell_type": "markdown",
      "metadata": {
        "id": "L9NEqcMacrkU"
      },
      "source": [
        "В качестве примера, импортируем модель `LogisticRegression`"
      ]
    },
    {
      "cell_type": "code",
      "execution_count": null,
      "metadata": {
        "id": "qDy9pjzmbLDB"
      },
      "outputs": [],
      "source": [
        "from sklearn.linear_model import LogisticRegression"
      ]
    },
    {
      "cell_type": "markdown",
      "metadata": {
        "id": "L7J-D3OXcx5Y"
      },
      "source": [
        "Импортируйте остальные модели из библиотеки `sklearn`. Чтобы понять как это сделать, воспользуйтесь официальный документацией `sklearn` $→$ [тык](https://scikit-learn.org/dev/user_guide.html). По ключевому названию модели, вы сможете найти необходимую информацию о том, как можно импортировать модель из библиотеки."
      ]
    },
    {
      "cell_type": "code",
      "execution_count": null,
      "metadata": {
        "id": "fWTANjK1c4Oi"
      },
      "outputs": [],
      "source": [
        "from ... import AdaBoostClassifier, RandomForestClassifier\n",
        "from ... import GaussianProcessClassifier\n",
        "from ... import GaussianNB\n",
        "from ... import KNeighborsClassifier\n",
        "from ... import SVC\n",
        "from ... import DecisionTreeClassifier"
      ]
    },
    {
      "cell_type": "markdown",
      "metadata": {
        "id": "0SffourId972"
      },
      "source": [
        "**Задание 2.2.** Обучите модель и сделайте предсказание на тестовой выборке"
      ]
    },
    {
      "cell_type": "markdown",
      "metadata": {
        "id": "Emdn45CYeMwW"
      },
      "source": [
        "В качестве примера, обучим модель `LogisticRegression` и сделаем на ней предсказания на тестовой выборке."
      ]
    },
    {
      "cell_type": "code",
      "execution_count": null,
      "metadata": {
        "id": "fsoHrG4wb8aw"
      },
      "outputs": [],
      "source": [
        "# Шаг 1. создание модели\n",
        "logistic_regression = LogisticRegression(C=1)\n",
        "\n",
        "# Шаг 2. обучение модели\n",
        "logistic_regression.fit(X_train, y_train)\n",
        "\n",
        "# Шаг 3. Предсказание на тестовых данных\n",
        "y_pred = logistic_regression.predict(X_test)"
      ]
    },
    {
      "cell_type": "markdown",
      "metadata": {
        "id": "u08T9URfeYZs"
      },
      "source": [
        "Аналогичным образом обучите остальные модели и сделайте предсказания на тестовой выборке."
      ]
    },
    {
      "cell_type": "code",
      "execution_count": null,
      "metadata": {
        "id": "Rp4yJWxXgQXA"
      },
      "outputs": [],
      "source": [
        "# Шаг 1. создание модели\n",
        "\n",
        "\n",
        "# Шаг 2. обучение модели\n",
        "\n",
        "\n",
        "# Шаг 3. Предсказание на тестовых данных\n"
      ]
    },
    {
      "cell_type": "markdown",
      "metadata": {
        "id": "6EDY2PuxXkJr"
      },
      "source": [
        "## Часть 3. Оцените качество моделей"
      ]
    },
    {
      "cell_type": "markdown",
      "metadata": {
        "id": "2fq6c3OLXonm"
      },
      "source": [
        "Вам необходимо познакомиться с метриками задачи классификации из sklearn. Оцените все модели и выберите лучшую по метрике качества Accuracy.\n",
        "\n",
        "С метриками классификации вы можете ознакомиться в [Yandex ML Book](https://education.yandex.ru/handbook/ml/article/metriki-klassifikacii-i-regressii).\n",
        "\n",
        "Для простоты в данном домашнем задании мы будем работать с самой базовой метрикой для задачи классификации - accuracy."
      ]
    },
    {
      "cell_type": "markdown",
      "metadata": {
        "id": "4e3r1qm1fJh5"
      },
      "source": [
        "**Задание 3.1.** Вам необходимо посчитать метрику для всех моделей и выбрать лучшую модель."
      ]
    },
    {
      "cell_type": "markdown",
      "metadata": {
        "id": "ZMPpyCXVX4kn"
      },
      "source": [
        "Сначала импортируем необходимую функцию из библиотеки sklearn для подсчета accuracy."
      ]
    },
    {
      "cell_type": "code",
      "execution_count": null,
      "metadata": {
        "id": "46hIpXgNaJ9Q"
      },
      "outputs": [],
      "source": [
        "from sklearn.metrics import accuracy_score"
      ]
    },
    {
      "cell_type": "markdown",
      "metadata": {
        "id": "OHbPHBmzfxpM"
      },
      "source": [
        "В качестве примера, посчитаем метрику accuracy для модели `LogisticRegression`"
      ]
    },
    {
      "cell_type": "code",
      "execution_count": null,
      "metadata": {
        "id": "NIMezW7sf7dM"
      },
      "outputs": [],
      "source": [
        "# Шаг 3. Предсказание на тестовых данных\n",
        "y_pred = logistic_regression.predict(X_test)\n",
        "\n",
        "# Шаг 4. Оценка предсказания по метрике accuracy\n",
        "accuracy = accuracy_score(y_test, y_pred)\n",
        "print(\"Accuracy : %.4f\" % accuracy)"
      ]
    },
    {
      "cell_type": "markdown",
      "metadata": {
        "id": "al5fPMVCgsag"
      },
      "source": [
        "Аналогичным образом посчитайте метрику accuracy для остальных моделей"
      ]
    },
    {
      "cell_type": "code",
      "execution_count": null,
      "metadata": {
        "id": "C2XL3UUOgzuB"
      },
      "outputs": [],
      "source": [
        "# Шаг 3. Предсказание на тестовых данных\n",
        "\n",
        "\n",
        "# Шаг 4. Оценка предсказания по метрике accuracy\n",
        "\n",
        "print(\"Accuracy : %.4f\" % accuracy)"
      ]
    },
    {
      "cell_type": "markdown",
      "metadata": {
        "id": "8PxPnhsDg2Rv"
      },
      "source": [
        "Выберите лучшую модель."
      ]
    },
    {
      "cell_type": "markdown",
      "metadata": {
        "id": "cY5PRBS-yWro"
      },
      "source": [
        "### Файл `submission.csv`"
      ]
    },
    {
      "cell_type": "markdown",
      "metadata": {
        "id": "a7h-o3dv1gvV"
      },
      "source": [
        "Вам нужно вместо значений в `submission.csv` файле в колонке `isAlive`, подставить свои предсказания и сохранить измененный файл."
      ]
    },
    {
      "cell_type": "code",
      "execution_count": null,
      "metadata": {
        "colab": {
          "base_uri": "https://localhost:8080/"
        },
        "id": "c_hZcwQm1B6U",
        "outputId": "e49eac65-0030-4cdc-b47c-34aefa13ad9d"
      },
      "outputs": [
        {
          "name": "stdout",
          "output_type": "stream",
          "text": [
            "Downloading...\n",
            "From: https://drive.google.com/uc?id=1M14conWjAW2QLoyCXbHEAy8bql2f99eF\n",
            "To: /content/submission.csv\n",
            "\r  0% 0.00/2.74k [00:00<?, ?B/s]\r100% 2.74k/2.74k [00:00<00:00, 9.42MB/s]\n"
          ]
        }
      ],
      "source": [
        "!gdown 1M14conWjAW2QLoyCXbHEAy8bql2f99eF"
      ]
    },
    {
      "cell_type": "code",
      "execution_count": null,
      "metadata": {
        "id": "9ae_dGCf1Jpi"
      },
      "outputs": [],
      "source": [
        "submission = pd.read_csv(\"/content/submission.csv\", index_col='S.No')"
      ]
    },
    {
      "cell_type": "code",
      "execution_count": null,
      "metadata": {
        "colab": {
          "base_uri": "https://localhost:8080/",
          "height": 455
        },
        "id": "JbruP2U01N-z",
        "outputId": "d92ed68a-f3bf-488e-e420-8c565a975d5d"
      },
      "outputs": [
        {
          "data": {
            "application/vnd.google.colaboratory.intrinsic+json": {
              "summary": "{\n  \"name\": \"submission\",\n  \"rows\": 389,\n  \"fields\": [\n    {\n      \"column\": \"S.No\",\n      \"properties\": {\n        \"dtype\": \"number\",\n        \"std\": 112,\n        \"min\": 1558,\n        \"max\": 1946,\n        \"num_unique_values\": 389,\n        \"samples\": [\n          1829,\n          1604,\n          1725\n        ],\n        \"semantic_type\": \"\",\n        \"description\": \"\"\n      }\n    },\n    {\n      \"column\": \"isAlive\",\n      \"properties\": {\n        \"dtype\": \"number\",\n        \"std\": 0,\n        \"min\": 0,\n        \"max\": 0,\n        \"num_unique_values\": 1,\n        \"samples\": [\n          0\n        ],\n        \"semantic_type\": \"\",\n        \"description\": \"\"\n      }\n    }\n  ]\n}",
              "type": "dataframe",
              "variable_name": "submission"
            },
            "text/html": [
              "\n",
              "  <div id=\"df-c240c367-60a9-4aef-88cc-3f1e3f883818\" class=\"colab-df-container\">\n",
              "    <div>\n",
              "<style scoped>\n",
              "    .dataframe tbody tr th:only-of-type {\n",
              "        vertical-align: middle;\n",
              "    }\n",
              "\n",
              "    .dataframe tbody tr th {\n",
              "        vertical-align: top;\n",
              "    }\n",
              "\n",
              "    .dataframe thead th {\n",
              "        text-align: right;\n",
              "    }\n",
              "</style>\n",
              "<table border=\"1\" class=\"dataframe\">\n",
              "  <thead>\n",
              "    <tr style=\"text-align: right;\">\n",
              "      <th></th>\n",
              "      <th>isAlive</th>\n",
              "    </tr>\n",
              "    <tr>\n",
              "      <th>S.No</th>\n",
              "      <th></th>\n",
              "    </tr>\n",
              "  </thead>\n",
              "  <tbody>\n",
              "    <tr>\n",
              "      <th>1558</th>\n",
              "      <td>0</td>\n",
              "    </tr>\n",
              "    <tr>\n",
              "      <th>1559</th>\n",
              "      <td>0</td>\n",
              "    </tr>\n",
              "    <tr>\n",
              "      <th>1560</th>\n",
              "      <td>0</td>\n",
              "    </tr>\n",
              "    <tr>\n",
              "      <th>1561</th>\n",
              "      <td>0</td>\n",
              "    </tr>\n",
              "    <tr>\n",
              "      <th>1562</th>\n",
              "      <td>0</td>\n",
              "    </tr>\n",
              "    <tr>\n",
              "      <th>...</th>\n",
              "      <td>...</td>\n",
              "    </tr>\n",
              "    <tr>\n",
              "      <th>1942</th>\n",
              "      <td>0</td>\n",
              "    </tr>\n",
              "    <tr>\n",
              "      <th>1943</th>\n",
              "      <td>0</td>\n",
              "    </tr>\n",
              "    <tr>\n",
              "      <th>1944</th>\n",
              "      <td>0</td>\n",
              "    </tr>\n",
              "    <tr>\n",
              "      <th>1945</th>\n",
              "      <td>0</td>\n",
              "    </tr>\n",
              "    <tr>\n",
              "      <th>1946</th>\n",
              "      <td>0</td>\n",
              "    </tr>\n",
              "  </tbody>\n",
              "</table>\n",
              "<p>389 rows × 1 columns</p>\n",
              "</div>\n",
              "    <div class=\"colab-df-buttons\">\n",
              "\n",
              "  <div class=\"colab-df-container\">\n",
              "    <button class=\"colab-df-convert\" onclick=\"convertToInteractive('df-c240c367-60a9-4aef-88cc-3f1e3f883818')\"\n",
              "            title=\"Convert this dataframe to an interactive table.\"\n",
              "            style=\"display:none;\">\n",
              "\n",
              "  <svg xmlns=\"http://www.w3.org/2000/svg\" height=\"24px\" viewBox=\"0 -960 960 960\">\n",
              "    <path d=\"M120-120v-720h720v720H120Zm60-500h600v-160H180v160Zm220 220h160v-160H400v160Zm0 220h160v-160H400v160ZM180-400h160v-160H180v160Zm440 0h160v-160H620v160ZM180-180h160v-160H180v160Zm440 0h160v-160H620v160Z\"/>\n",
              "  </svg>\n",
              "    </button>\n",
              "\n",
              "  <style>\n",
              "    .colab-df-container {\n",
              "      display:flex;\n",
              "      gap: 12px;\n",
              "    }\n",
              "\n",
              "    .colab-df-convert {\n",
              "      background-color: #E8F0FE;\n",
              "      border: none;\n",
              "      border-radius: 50%;\n",
              "      cursor: pointer;\n",
              "      display: none;\n",
              "      fill: #1967D2;\n",
              "      height: 32px;\n",
              "      padding: 0 0 0 0;\n",
              "      width: 32px;\n",
              "    }\n",
              "\n",
              "    .colab-df-convert:hover {\n",
              "      background-color: #E2EBFA;\n",
              "      box-shadow: 0px 1px 2px rgba(60, 64, 67, 0.3), 0px 1px 3px 1px rgba(60, 64, 67, 0.15);\n",
              "      fill: #174EA6;\n",
              "    }\n",
              "\n",
              "    .colab-df-buttons div {\n",
              "      margin-bottom: 4px;\n",
              "    }\n",
              "\n",
              "    [theme=dark] .colab-df-convert {\n",
              "      background-color: #3B4455;\n",
              "      fill: #D2E3FC;\n",
              "    }\n",
              "\n",
              "    [theme=dark] .colab-df-convert:hover {\n",
              "      background-color: #434B5C;\n",
              "      box-shadow: 0px 1px 3px 1px rgba(0, 0, 0, 0.15);\n",
              "      filter: drop-shadow(0px 1px 2px rgba(0, 0, 0, 0.3));\n",
              "      fill: #FFFFFF;\n",
              "    }\n",
              "  </style>\n",
              "\n",
              "    <script>\n",
              "      const buttonEl =\n",
              "        document.querySelector('#df-c240c367-60a9-4aef-88cc-3f1e3f883818 button.colab-df-convert');\n",
              "      buttonEl.style.display =\n",
              "        google.colab.kernel.accessAllowed ? 'block' : 'none';\n",
              "\n",
              "      async function convertToInteractive(key) {\n",
              "        const element = document.querySelector('#df-c240c367-60a9-4aef-88cc-3f1e3f883818');\n",
              "        const dataTable =\n",
              "          await google.colab.kernel.invokeFunction('convertToInteractive',\n",
              "                                                    [key], {});\n",
              "        if (!dataTable) return;\n",
              "\n",
              "        const docLinkHtml = 'Like what you see? Visit the ' +\n",
              "          '<a target=\"_blank\" href=https://colab.research.google.com/notebooks/data_table.ipynb>data table notebook</a>'\n",
              "          + ' to learn more about interactive tables.';\n",
              "        element.innerHTML = '';\n",
              "        dataTable['output_type'] = 'display_data';\n",
              "        await google.colab.output.renderOutput(dataTable, element);\n",
              "        const docLink = document.createElement('div');\n",
              "        docLink.innerHTML = docLinkHtml;\n",
              "        element.appendChild(docLink);\n",
              "      }\n",
              "    </script>\n",
              "  </div>\n",
              "\n",
              "\n",
              "<div id=\"df-9d3444d4-0c12-4a8f-af11-fad92857357f\">\n",
              "  <button class=\"colab-df-quickchart\" onclick=\"quickchart('df-9d3444d4-0c12-4a8f-af11-fad92857357f')\"\n",
              "            title=\"Suggest charts\"\n",
              "            style=\"display:none;\">\n",
              "\n",
              "<svg xmlns=\"http://www.w3.org/2000/svg\" height=\"24px\"viewBox=\"0 0 24 24\"\n",
              "     width=\"24px\">\n",
              "    <g>\n",
              "        <path d=\"M19 3H5c-1.1 0-2 .9-2 2v14c0 1.1.9 2 2 2h14c1.1 0 2-.9 2-2V5c0-1.1-.9-2-2-2zM9 17H7v-7h2v7zm4 0h-2V7h2v10zm4 0h-2v-4h2v4z\"/>\n",
              "    </g>\n",
              "</svg>\n",
              "  </button>\n",
              "\n",
              "<style>\n",
              "  .colab-df-quickchart {\n",
              "      --bg-color: #E8F0FE;\n",
              "      --fill-color: #1967D2;\n",
              "      --hover-bg-color: #E2EBFA;\n",
              "      --hover-fill-color: #174EA6;\n",
              "      --disabled-fill-color: #AAA;\n",
              "      --disabled-bg-color: #DDD;\n",
              "  }\n",
              "\n",
              "  [theme=dark] .colab-df-quickchart {\n",
              "      --bg-color: #3B4455;\n",
              "      --fill-color: #D2E3FC;\n",
              "      --hover-bg-color: #434B5C;\n",
              "      --hover-fill-color: #FFFFFF;\n",
              "      --disabled-bg-color: #3B4455;\n",
              "      --disabled-fill-color: #666;\n",
              "  }\n",
              "\n",
              "  .colab-df-quickchart {\n",
              "    background-color: var(--bg-color);\n",
              "    border: none;\n",
              "    border-radius: 50%;\n",
              "    cursor: pointer;\n",
              "    display: none;\n",
              "    fill: var(--fill-color);\n",
              "    height: 32px;\n",
              "    padding: 0;\n",
              "    width: 32px;\n",
              "  }\n",
              "\n",
              "  .colab-df-quickchart:hover {\n",
              "    background-color: var(--hover-bg-color);\n",
              "    box-shadow: 0 1px 2px rgba(60, 64, 67, 0.3), 0 1px 3px 1px rgba(60, 64, 67, 0.15);\n",
              "    fill: var(--button-hover-fill-color);\n",
              "  }\n",
              "\n",
              "  .colab-df-quickchart-complete:disabled,\n",
              "  .colab-df-quickchart-complete:disabled:hover {\n",
              "    background-color: var(--disabled-bg-color);\n",
              "    fill: var(--disabled-fill-color);\n",
              "    box-shadow: none;\n",
              "  }\n",
              "\n",
              "  .colab-df-spinner {\n",
              "    border: 2px solid var(--fill-color);\n",
              "    border-color: transparent;\n",
              "    border-bottom-color: var(--fill-color);\n",
              "    animation:\n",
              "      spin 1s steps(1) infinite;\n",
              "  }\n",
              "\n",
              "  @keyframes spin {\n",
              "    0% {\n",
              "      border-color: transparent;\n",
              "      border-bottom-color: var(--fill-color);\n",
              "      border-left-color: var(--fill-color);\n",
              "    }\n",
              "    20% {\n",
              "      border-color: transparent;\n",
              "      border-left-color: var(--fill-color);\n",
              "      border-top-color: var(--fill-color);\n",
              "    }\n",
              "    30% {\n",
              "      border-color: transparent;\n",
              "      border-left-color: var(--fill-color);\n",
              "      border-top-color: var(--fill-color);\n",
              "      border-right-color: var(--fill-color);\n",
              "    }\n",
              "    40% {\n",
              "      border-color: transparent;\n",
              "      border-right-color: var(--fill-color);\n",
              "      border-top-color: var(--fill-color);\n",
              "    }\n",
              "    60% {\n",
              "      border-color: transparent;\n",
              "      border-right-color: var(--fill-color);\n",
              "    }\n",
              "    80% {\n",
              "      border-color: transparent;\n",
              "      border-right-color: var(--fill-color);\n",
              "      border-bottom-color: var(--fill-color);\n",
              "    }\n",
              "    90% {\n",
              "      border-color: transparent;\n",
              "      border-bottom-color: var(--fill-color);\n",
              "    }\n",
              "  }\n",
              "</style>\n",
              "\n",
              "  <script>\n",
              "    async function quickchart(key) {\n",
              "      const quickchartButtonEl =\n",
              "        document.querySelector('#' + key + ' button');\n",
              "      quickchartButtonEl.disabled = true;  // To prevent multiple clicks.\n",
              "      quickchartButtonEl.classList.add('colab-df-spinner');\n",
              "      try {\n",
              "        const charts = await google.colab.kernel.invokeFunction(\n",
              "            'suggestCharts', [key], {});\n",
              "      } catch (error) {\n",
              "        console.error('Error during call to suggestCharts:', error);\n",
              "      }\n",
              "      quickchartButtonEl.classList.remove('colab-df-spinner');\n",
              "      quickchartButtonEl.classList.add('colab-df-quickchart-complete');\n",
              "    }\n",
              "    (() => {\n",
              "      let quickchartButtonEl =\n",
              "        document.querySelector('#df-9d3444d4-0c12-4a8f-af11-fad92857357f button');\n",
              "      quickchartButtonEl.style.display =\n",
              "        google.colab.kernel.accessAllowed ? 'block' : 'none';\n",
              "    })();\n",
              "  </script>\n",
              "</div>\n",
              "    </div>\n",
              "  </div>\n"
            ],
            "text/plain": [
              "      isAlive\n",
              "S.No         \n",
              "1558        0\n",
              "1559        0\n",
              "1560        0\n",
              "1561        0\n",
              "1562        0\n",
              "...       ...\n",
              "1942        0\n",
              "1943        0\n",
              "1944        0\n",
              "1945        0\n",
              "1946        0\n",
              "\n",
              "[389 rows x 1 columns]"
            ]
          },
          "execution_count": 10,
          "metadata": {},
          "output_type": "execute_result"
        }
      ],
      "source": [
        "submission"
      ]
    },
    {
      "cell_type": "markdown",
      "metadata": {
        "id": "pCt9b7ih12If"
      },
      "source": [
        "Как сохранить измененный Pandas DataFrame в csv файл:"
      ]
    },
    {
      "cell_type": "code",
      "execution_count": null,
      "metadata": {
        "id": "FdCgUj7Z1Oty"
      },
      "outputs": [],
      "source": [
        "submission.to_csv(\"/content/new_submission.csv\", index=False)"
      ]
    }
  ],
  "metadata": {
    "colab": {
      "collapsed_sections": [
        "GW9X4s8qWm98"
      ],
      "provenance": []
    },
    "kernelspec": {
      "display_name": "Python 3",
      "name": "python3"
    },
    "language_info": {
      "codemirror_mode": {
        "name": "ipython",
        "version": 3
      },
      "file_extension": ".py",
      "mimetype": "text/x-python",
      "name": "python",
      "nbconvert_exporter": "python",
      "pygments_lexer": "ipython3",
      "version": "3.13.2"
    }
  },
  "nbformat": 4,
  "nbformat_minor": 0
}
